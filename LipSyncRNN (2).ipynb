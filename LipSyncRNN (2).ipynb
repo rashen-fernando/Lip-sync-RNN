{
  "nbformat": 4,
  "nbformat_minor": 0,
  "metadata": {
    "colab": {
      "provenance": [],
      "collapsed_sections": []
    },
    "kernelspec": {
      "name": "python3",
      "display_name": "Python 3"
    },
    "language_info": {
      "name": "python"
    }
  },
  "cells": [
    {
      "cell_type": "code",
      "execution_count": null,
      "metadata": {
        "id": "BqP1uF8oPv1F"
      },
      "outputs": [],
      "source": [
        "!pip install mediapipe #if you run this script on colab you can install mediapipe by running this cell"
      ]
    },
    {
      "cell_type": "markdown",
      "source": [
        "Folder structure<br>\n",
        "<pre>\n",
        "video-----> <br>\n",
        "          '1.mp4' <br>\n",
        "          '2.mp4' <br>\n",
        "          '3.mp4' <br>\n",
        "           etc... <br>\n",
        "\n",
        "audio -----><br>\n",
        "          '1.wav' <br>\n",
        "          '2.wav' <br>\n",
        "          '3.wav' <br>\n",
        "          etc... <br>\n",
        "</pre>\n",
        "\n",
        "Here 1,2,3 are file names. you can name it anything you prefer.but make sure to have the exact same name to the corresponding audio file. All the files should be same fps and same duration.\n",
        "\n",
        "\n",
        "\n",
        "\n"
      ],
      "metadata": {
        "id": "vZjDHkjxsz7s"
      }
    },
    {
      "cell_type": "code",
      "source": [
        "#@title Main Code - Run this to train the network\n",
        "import torch\n",
        "from torch import nn\n",
        "import torch.nn.functional as F\n",
        "import numpy as np\n",
        "import torch.optim as optim\n",
        "import cv2\n",
        "from google.colab.patches import cv2_imshow\n",
        "import mediapipe as mp\n",
        "import matplotlib.pyplot as plt\n",
        "import matplotlib as mpl\n",
        "from scipy.io import wavfile\n",
        "import os\n",
        "import math\n",
        "import joblib\n",
        "device = torch.device(\"cuda:0\" if torch.cuda.is_available() else \"cpu\")\n",
        "\n",
        "\n",
        "vid_dir = input('path of video directory - ') #all videos should be same duration\n",
        "aud_dir = input('path of audio directory - ') #all audio clips should match the video duration and the name.Should be in wav format\n",
        "BatchSize = int(input('Batch size - '))\n",
        "hidden_dim = 468\n",
        "n_layers = 60   #this parameter defines how many rnn layers. research paper suggests 60\n",
        "length = 150    #This parameter corresponds to duration of the video.Number of frames per single clip. If you have longer clips you can have a igger value\n",
        "n_epochs = int(input('Epochs - '))\n",
        "lr=float(input('Learning Rate - '))\n",
        "\n",
        "vid_ids = [files for files in os.walk(vid_dir)] \n",
        "vid_ids = [filenames[:-4] for filenames in vid_ids[0][2] ]\n",
        "\n",
        "mpDraw = mp.solutions.drawing_utils\n",
        "mpFaceMesh = mp.solutions.face_mesh\n",
        "faceMesh = mpFaceMesh.FaceMesh(max_num_faces=1)\n",
        "\n",
        "\n",
        "X_data = []\n",
        "Y_data = []\n",
        "Z_data = []\n",
        "aud = []\n",
        "\n",
        "for files in vid_ids:\n",
        "  video = vid_dir +'/'+files+'.mp4'\n",
        "  audio = aud_dir + '/' + files+'.wav'\n",
        "\n",
        "  cap = cv2.VideoCapture(video)  #reading the video\n",
        "  Fs,audio = wavfile.read(audio) #reading the audio\n",
        "  \n",
        "  #finding the fps\n",
        "  (major_ver, minor_ver, subminor_ver) = (cv2.__version__).split('.')\n",
        "  if int(major_ver)  < 3 :\n",
        "    fps = cap.get(cv2.cv.CV_CAP_PROP_FPS)\n",
        "    #print (\"Frames per second using video.get(cv2.cv.CV_CAP_PROP_FPS): {0}\".format(fps))\n",
        "  else :\n",
        "    fps = cap.get(cv2.CAP_PROP_FPS)\n",
        "    #print (\"Frames per second using video.get(cv2.CAP_PROP_FPS) : {0}\".format(fps))\n",
        "  \n",
        "  #length = int(cap.get(cv2.CAP_PROP_FRAME_COUNT))\n",
        "  \n",
        "  \n",
        "  #creating facepoints\n",
        "  for i in range(length):\n",
        "    success,img = cap.read()\n",
        "    results = faceMesh.process(img)\n",
        "    \n",
        "    if results.multi_face_landmarks:\n",
        "      tempx = []\n",
        "      tempy = []\n",
        "      tempz = []\n",
        "      for faceLms in results.multi_face_landmarks:\n",
        "        for lm in faceLms.landmark:\n",
        "          tempx.append(lm.x)\n",
        "          tempy.append(lm.y)\n",
        "          tempz.append(lm.z)\n",
        "\n",
        "    else:\n",
        "      tempx = []\n",
        "      tempy = []\n",
        "      tempz = []\n",
        "      for i in range(468):\n",
        "        tempx.append(0)\n",
        "        tempy.append(0)\n",
        "        tempz.append(0)\n",
        "          \n",
        "    X_data.append(tempx)  \n",
        "    Y_data.append(tempy)\n",
        "    Z_data.append(tempz)\n",
        "      \n",
        "    \n",
        "  cap.release()\n",
        "  \n",
        "  #creating audio\n",
        "  \n",
        "  aud = np.array(np.concatenate((aud, audio.T[0])))\n",
        "  #print(np.array(audio.T[0]).shape)\n",
        "\n",
        "#print(np.array(X_data).shape)\n",
        "time_per_frame_in_video = 1/fps #seconds 1/30\n",
        "time_per_frame_in_audio = time_per_frame_in_video * Fs\n",
        "sequences = time_per_frame_in_audio\n",
        "input_size = int(len(audio)/length)\n",
        "\n",
        "X_data = torch.tensor(X_data)\n",
        "Y_data = torch.tensor(Y_data)\n",
        "Z_data = torch.tensor(Z_data)\n",
        "aud = torch.tensor(aud)\n",
        "\n",
        "X_data = X_data.view( -1,BatchSize , length, 468)\n",
        "Y_data = Y_data.view( -1,BatchSize , length, 468)\n",
        "Z_data = Z_data.view( -1,BatchSize , length, 468)\n",
        "aud = aud[0:BatchSize*length*input_size].view(-1,BatchSize,length,input_size)\n",
        "number_of_batches = aud.size(dim = 0)\n",
        "\n",
        "\n",
        "class Model(nn.Module):\n",
        "    def __init__(self, input_size, output_size, hidden_dim, n_layers):\n",
        "        super(Model, self).__init__()\n",
        "\n",
        "        # Defining some parameters\n",
        "        self.hidden_dim = hidden_dim\n",
        "        self.n_layers = n_layers\n",
        "\n",
        "        #Defining the layers\n",
        "        # RNN Layer\n",
        "        self.rnn = nn.RNN(input_size, hidden_dim, n_layers, batch_first=True)   \n",
        "        # Fully connected layer\n",
        "        self.fcx = nn.Linear(hidden_dim, output_size)\n",
        "        self.fcy = nn.Linear(hidden_dim, output_size)\n",
        "        self.fcz = nn.Linear(hidden_dim, output_size)\n",
        "    \n",
        "    def forward(self, x):\n",
        "        \n",
        "        batch_size = x.size(0)\n",
        "\n",
        "        # Initializing hidden state for first input using method defined below\n",
        "        hidden = self.init_hidden(batch_size)\n",
        "\n",
        "        # Passing in the input and hidden state into the model and obtaining outputs\n",
        "        out, hidden = self.rnn(x, hidden)\n",
        "        \n",
        "        # Reshaping the outputs such that it can be fit into the fully connected layer\n",
        "        #out = out.contiguous().view(-1, self.hidden_dim)\n",
        "        outX = self.fcx(out)\n",
        "        outY = self.fcy(out)\n",
        "        outZ = self.fcz(out)\n",
        "\n",
        "        return outX, outY, outZ\n",
        "\n",
        "    def init_hidden(self, batch_size):\n",
        "        # This method generates the first hidden state of zeros which we'll use in the forward pass\n",
        "        # We'll send the tensor holding the hidden state to the device we specified earlier as well\n",
        "        hidden = torch.zeros(self.n_layers, batch_size, self.hidden_dim)\n",
        "        return hidden\n",
        "\n",
        "\n",
        "\n",
        "model = Model(input_size,468,hidden_dim*3,60).to(device)\n",
        "loss_function = nn.MSELoss()\n",
        "optimizer = optim.Adam(model.parameters(), lr=lr)\n",
        "loss_vector = []\n",
        "\n",
        "for epoch in range(n_epochs): # 3 full passes over the data\n",
        "  #  model.train()\n",
        "    for data in range(number_of_batches):  # `data` is a batch of data\n",
        "        model.zero_grad()  # sets gradients to 0 before loss calc. You will do this likely every step.\n",
        "        outX,outY,outZ = model.forward(aud[data].to(device).float())  # pass in the reshaped batch (recall they are 28x28 atm)\n",
        "        \n",
        "        \n",
        "\n",
        "        lossX = loss_function(outX,X_data[data].to(device).float())\n",
        "        lossY = loss_function(outY,Y_data[data].to(device).float())\n",
        "        lossZ = loss_function(outZ,Z_data[data].to(device).float())\n",
        "        loss = lossX+lossY+lossZ\n",
        "\n",
        "        loss.backward()  # apply this loss backwards thru the network's parameters\n",
        "        optimizer.step()  # attempt to optimize weights to account for loss/gradients\n",
        "    print(epoch,loss)\n",
        "    loss_vector.append(loss)\n",
        "\n",
        "\n",
        "\n"
      ],
      "metadata": {
        "id": "j5IEk-9PnjF4",
        "colab": {
          "base_uri": "https://localhost:8080/"
        },
        "outputId": "4eab29e6-9450-4dff-ce1a-254e9c933399"
      },
      "execution_count": 2,
      "outputs": [
        {
          "output_type": "stream",
          "name": "stdout",
          "text": [
            "path of video directory - /content/drive/MyDrive/Project Docments/lip sync/vid\n",
            "path of audio directory - /content/drive/MyDrive/Project Docments/lip sync/aud\n",
            "Batch size - 2\n",
            "Epochs - 2\n",
            "Learning Rate - 1\n",
            "0 tensor(0.3830, grad_fn=<AddBackward0>)\n",
            "1 tensor(21853.0938, grad_fn=<AddBackward0>)\n"
          ]
        }
      ]
    },
    {
      "cell_type": "code",
      "source": [
        "#@title Plot loss\n",
        "Lv = [] \n",
        "for i in range(len(loss_vector)):\n",
        "    Lv.append(loss_vector[i].item())\n",
        "print(Lv)\n",
        "plt.plot(Lv)\n",
        "plt.xlabel(\"iteration\")\n",
        "plt.ylabel(\"loss\")\n",
        "\n",
        "plt.show() "
      ],
      "metadata": {
        "colab": {
          "base_uri": "https://localhost:8080/",
          "height": 296
        },
        "id": "KArlG6rm8WmP",
        "outputId": "1631f394-9d49-42e0-f900-305b352e3251"
      },
      "execution_count": 3,
      "outputs": [
        {
          "output_type": "stream",
          "name": "stdout",
          "text": [
            "[0.3829939067363739, 21853.09375]\n"
          ]
        },
        {
          "output_type": "display_data",
          "data": {
            "text/plain": [
              "<Figure size 432x288 with 1 Axes>"
            ],
            "image/png": "[encoded data removed]"
          },
          "metadata": {
            "needs_background": "light"
          }
        }
      ]
    },
    {
      "cell_type": "code",
      "source": [
        "#@title Save the model (This is optional, If you think you got good results you can save the model for later use)\n",
        "model.eval()\n",
        "location = input('Enter the location you would like to save this model/ the model name - ')\n",
        "#Enter the location you would like to save this model ---> this is the folder you are putting it\n",
        "#the model name ----> give any name you like\n",
        "joblib.dump(model, location)\n"
      ],
      "metadata": {
        "colab": {
          "base_uri": "https://localhost:8080/"
        },
        "id": "p1q64z10lrKX",
        "outputId": "a4794aae-3b78-4262-a1c5-39c9e4ed5fda"
      },
      "execution_count": 4,
      "outputs": [
        {
          "name": "stdout",
          "output_type": "stream",
          "text": [
            "Enter the location you would like to save this model - /content/drive/MyDrive/Project Docments/lip sync/train1\n"
          ]
        },
        {
          "output_type": "execute_result",
          "data": {
            "text/plain": [
              "['/content/drive/MyDrive/Project Docments/lip sync/train1']"
            ]
          },
          "metadata": {},
          "execution_count": 4
        }
      ]
    },
    {
      "cell_type": "code",
      "source": [
        "#@title You can feed test audio here after training\n",
        "model.eval()\n",
        "test = input('audio file path - ')\n",
        "Fs,test = wavfile.read(test)\n",
        "l = math.floor(len(test.T[0])/input_size)\n",
        "test = torch.tensor(test.T[0])[:l*input_size].view(1,l,input_size).to(device)\n",
        "test_output = model(test.float())"
      ],
      "metadata": {
        "id": "1gWetB8KpsBy"
      },
      "execution_count": null,
      "outputs": []
    },
    {
      "cell_type": "code",
      "source": [
        "\n"
      ],
      "metadata": {
        "id": "hKk9_5BSovfF"
      },
      "execution_count": null,
      "outputs": []
    }
  ]
}