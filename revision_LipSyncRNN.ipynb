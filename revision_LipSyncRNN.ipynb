{
  "nbformat": 4,
  "nbformat_minor": 0,
  "metadata": {
    "colab": {
      "provenance": [],
      "collapsed_sections": []
    },
    "kernelspec": {
      "name": "python3",
      "display_name": "Python 3"
    },
    "language_info": {
      "name": "python"
    }
  },
  "cells": [
    {
      "cell_type": "code",
      "execution_count": null,
      "metadata": {
        "id": "BqP1uF8oPv1F"
      },
      "outputs": [],
      "source": [
        "!pip install mediapipe #if you run this script on colab you can install mediapipe by running this cell"
      ]
    },
    {
      "cell_type": "markdown",
      "source": [
        "Folder structure<br>\n",
        "<pre>\n",
        "video-----> <br>\n",
        "          '1.mp4' <br>\n",
        "          '2.mp4' <br>\n",
        "          '3.mp4' <br>\n",
        "           etc... <br>\n",
        "\n",
        "audio -----><br>\n",
        "          '1.wav' <br>\n",
        "          '2.wav' <br>\n",
        "          '3.wav' <br>\n",
        "          etc... <br>\n",
        "</pre>\n",
        "\n",
        "Here 1,2,3 are file names. you can name it anything you prefer.but make sure to have the exact same name to the corresponding audio file. All the files should be same fps and same duration.\n",
        "\n",
        "\n",
        "\n",
        "\n"
      ],
      "metadata": {
        "id": "vZjDHkjxsz7s"
      }
    },
    {
      "cell_type": "code",
      "source": [
        "#@title Main Code - Run this to train the network\n",
        "import torch\n",
        "from torch import nn\n",
        "import torch.nn.functional as F\n",
        "import numpy as np\n",
        "import torch.optim as optim\n",
        "import cv2\n",
        "from google.colab.patches import cv2_imshow\n",
        "import mediapipe as mp\n",
        "import matplotlib.pyplot as plt\n",
        "import matplotlib as mpl\n",
        "from scipy.io import wavfile\n",
        "import os\n",
        "import math\n",
        "import joblib\n",
        "import librosa\n",
        "device = torch.device(\"cuda:0\" if torch.cuda.is_available() else \"cpu\")\n",
        "\n",
        "\n",
        "vid_dir = input('path of video directory - ') #all videos should be same duration\n",
        "aud_dir = input('path of audio directory - ') #all audio clips should match the video duration and the name.Should be in wav format\n",
        "BatchSize = int(input('Batch size - '))\n",
        "hidden_dim = 40\n",
        "n_layers = 60   #this parameter defines how many rnn layers. research paper suggests 60\n",
        "length = 150    #This parameter corresponds to duration of the video.Number of frames per single clip. If you have longer clips you can have a igger value\n",
        "n_epochs = int(input('Epochs - '))\n",
        "lr=float(input('Learning Rate - '))\n",
        "\n",
        "vid_ids = [files for files in os.walk(vid_dir)] \n",
        "vid_ids = [filenames[:-4] for filenames in vid_ids[0][2] ]\n",
        "\n",
        "def get_unique(c):\n",
        "  templist = list(c)\n",
        "  tempset = set()\n",
        "  for t in templist:\n",
        "    tempset.add(t[0])\n",
        "    tempset.add(t[1])\n",
        "  return list(tempset)\n",
        "\n",
        "\n",
        "def midpoint(point1,point2,point3,point4, img):\n",
        "  x = int( (point1.x * img.shape[1] + point2.x * img.shape[1] + point3.x * img.shape[1] + point4.x * img.shape[1] )/4 )\n",
        "  y = int( (point1.y * img.shape[0] + point2.y * img.shape[0] + point3.y * img.shape[0] + point4.y * img.shape[0] )/4 )\n",
        "  return x,y\n",
        "\n",
        "def angleTheta(x,y):\n",
        "  return math.atan2(y,x)\n",
        "\n",
        "def Facetransform(x0,y0,theta):\n",
        "  x1 = int(x0*math.sin(theta) - y0* math.cos(theta) )\n",
        "  y1 = int(x0*math.cos(theta) + y0* math.sin(theta) )\n",
        "  return x1,y1\n",
        "\n",
        "\n",
        "mpDraw = mp.solutions.drawing_utils\n",
        "mpFaceMesh = mp.solutions.face_mesh\n",
        "connection_lips = get_unique( mpFaceMesh.FACEMESH_LIPS )#FaceMesh(max_num_faces=1)\n",
        "connection_face = get_unique( mpFaceMesh.FACEMESH_FACE_OVAL )\n",
        "facepoints = [connection_face[3],connection_face[10],connection_face[20],connection_face[24] ]\n",
        "\n",
        "X_data = []\n",
        "Y_data = []\n",
        "Z_data = []\n",
        "melvector = torch.empty(0,length,128)\n",
        "\n",
        "for files in vid_ids:\n",
        "  video = vid_dir +'/'+files+'.mp4'\n",
        "  audio = aud_dir + '/' + files+'.wav'\n",
        "\n",
        "  cap = cv2.VideoCapture(video)  #reading the video\n",
        "  aud, Fs = librosa.load(audio) #reading the audio\n",
        "  hop_length = int(len(aud)/length+1)\n",
        "  S = librosa.feature.melspectrogram(y=aud, sr=Fs,n_fft = 2048,hop_length=hop_length, n_mels=128,fmax=8000)\n",
        "\n",
        "  \n",
        "  #finding the fps\n",
        "  (major_ver, minor_ver, subminor_ver) = (cv2.__version__).split('.')\n",
        "  if int(major_ver)  < 3 :\n",
        "    fps = cap.get(cv2.cv.CV_CAP_PROP_FPS)\n",
        "    #print (\"Frames per second using video.get(cv2.cv.CV_CAP_PROP_FPS): {0}\".format(fps))\n",
        "  else :\n",
        "    fps = cap.get(cv2.CAP_PROP_FPS)\n",
        "    #print (\"Frames per second using video.get(cv2.CAP_PROP_FPS) : {0}\".format(fps))\n",
        "  \n",
        "  #length = int(cap.get(cv2.CAP_PROP_FRAME_COUNT))\n",
        "  \n",
        "  \n",
        "  #creating facepoints\n",
        "  \n",
        "  with mpFaceMesh.FaceMesh(static_image_mode = True, max_num_faces=1, refine_landmarks = True, min_detection_confidence = 0.5) as faceMesh:\n",
        "    while(cap.isOpened()):\n",
        "      success,img = cap.read()\n",
        "      if success == False:\n",
        "        break\n",
        "      results = faceMesh.process( cv2.cvtColor(img, cv2.COLOR_BGR2RGB) )\n",
        "    \n",
        "      if results.multi_face_landmarks:\n",
        "        tempx = []\n",
        "        tempy = []\n",
        "        tempz = []\n",
        "        for face_landmark in results.multi_face_landmarks:\n",
        "          lms = face_landmark.landmark \n",
        "          x1,y1 =  midpoint(lms[facepoints[0]] ,lms[facepoints[1]],lms[facepoints[2]] ,lms[facepoints[3]], img) \n",
        "          theta =  angleTheta( int(lms[facepoints[1]].x* img.shape[1]-x1) ,int(lms[facepoints[1]].y* img.shape[0]-y1) )\n",
        "          d = {}\n",
        "          for index in connection_lips:\n",
        "            #print(index, lms[index].x)\n",
        "            x = int(lms[index].x * img.shape[1] -x1)\n",
        "            y = int(lms[index].y * img.shape[0] -y1)\n",
        "            x,y =  Facetransform(x,y,theta)\n",
        "            x = int(x+x1)\n",
        "            y = int(y+y1)\n",
        "            tempx.append(x)\n",
        "            tempy.append(y)\n",
        "            tempz.append(lms[index].z)\n",
        "          #   d[index] = (x, y)\n",
        "          #   cv2.circle(img, ( x, y ) , 2, (255,0,0), -1 )\n",
        "          # print(math.tan(theta))\n",
        "          # cv2.circle(img, ( x1, y1 ) , 2, (0,255,0), -1 )\n",
        "\n",
        "      else:\n",
        "        tempx = []\n",
        "        tempy = []\n",
        "        tempz = []\n",
        "        for i in range(40):\n",
        "          tempx.append(0)\n",
        "          tempy.append(0)\n",
        "          tempz.append(0)\n",
        "            \n",
        "      X_data.append(tempx)  \n",
        "      Y_data.append(tempy)\n",
        "      Z_data.append(tempz)\n",
        "      \n",
        "    \n",
        "  cap.release()\n",
        "  \n",
        "  #creating audio\n",
        "  S = torch.tensor(S.T[:length]).view(-1,length,128)\n",
        "  melvector = torch.cat((melvector, S), dim=0)\n",
        "  #print(np.array(audio.T[0]).shape)\n",
        "\n",
        "#print(np.array(X_data).shape)\n",
        "time_per_frame_in_video = 1/fps #seconds 1/30\n",
        "time_per_frame_in_audio = time_per_frame_in_video * Fs\n",
        "sequences = time_per_frame_in_audio\n",
        "input_size = int(len(audio)/length)\n",
        "\n",
        "X_data = torch.tensor(X_data)\n",
        "Y_data = torch.tensor(Y_data)\n",
        "Z_data = torch.tensor(Z_data)\n",
        "\n",
        "\n",
        "X_data = X_data[:int(X_data.size(dim=0)/BatchSize)   * BatchSize ].view( -1,BatchSize , length, 40)\n",
        "Y_data = Y_data[:int(Y_data.size(dim=0)/BatchSize)   * BatchSize ].view( -1,BatchSize , length, 40)\n",
        "Z_data = Z_data[:int(Z_data.size(dim=0)/BatchSize)   * BatchSize ].view( -1,BatchSize , length, 40)\n",
        "aud = melvector[:int(melvector.size(dim=0)/BatchSize)* BatchSize ].view( -1,BatchSize , length, 128)\n",
        "number_of_batches = aud.size(dim = 0)\n",
        "\n",
        "\n",
        "class Model(nn.Module):\n",
        "    def __init__(self, input_size, output_size, hidden_dim, n_layers):\n",
        "        super(Model, self).__init__()\n",
        "\n",
        "        # Defining some parameters\n",
        "        self.hidden_dim = hidden_dim\n",
        "        self.n_layers = n_layers\n",
        "\n",
        "        #Defining the layers\n",
        "        # RNN Layer\n",
        "        self.rnn = nn.RNN(input_size, hidden_dim, n_layers, batch_first=True)   \n",
        "        # Fully connected layer\n",
        "        self.fcx = nn.Linear(hidden_dim, output_size)\n",
        "        self.fcy = nn.Linear(hidden_dim, output_size)\n",
        "        self.fcz = nn.Linear(hidden_dim, output_size)\n",
        "    \n",
        "    def forward(self, x):\n",
        "        \n",
        "        batch_size = x.size(0)\n",
        "\n",
        "        # Initializing hidden state for first input using method defined below\n",
        "        hidden = self.init_hidden(batch_size)\n",
        "\n",
        "        # Passing in the input and hidden state into the model and obtaining outputs\n",
        "        out, hidden = self.rnn(x, hidden)\n",
        "        \n",
        "        # Reshaping the outputs such that it can be fit into the fully connected layer\n",
        "        #out = out.contiguous().view(-1, self.hidden_dim)\n",
        "        outX = self.fcx(out)\n",
        "        outY = self.fcy(out)\n",
        "        outZ = self.fcz(out)\n",
        "\n",
        "        return outX, outY, outZ\n",
        "\n",
        "    def init_hidden(self, batch_size):\n",
        "        # This method generates the first hidden state of zeros which we'll use in the forward pass\n",
        "        # We'll send the tensor holding the hidden state to the device we specified earlier as well\n",
        "        hidden = torch.zeros(self.n_layers, batch_size, self.hidden_dim)\n",
        "        return hidden\n",
        "\n",
        "\n",
        "\n",
        "model = Model(128,40,hidden_dim*3,60).to(device)\n",
        "loss_function = nn.MSELoss()\n",
        "optimizer = optim.Adam(model.parameters(), lr=lr)\n",
        "loss_vector = []\n",
        "\n",
        "for epoch in range(n_epochs): # 3 full passes over the data\n",
        "  #  model.train()\n",
        "    for data in range(number_of_batches):  # `data` is a batch of data\n",
        "        model.zero_grad()  # sets gradients to 0 before loss calc. You will do this likely every step.\n",
        "        outX,outY,outZ = model.forward(aud[data].to(device).float())  # pass in the reshaped batch (recall they are 28x28 atm)\n",
        "        \n",
        "        \n",
        "\n",
        "        lossX = loss_function(outX,X_data[data].to(device).float())\n",
        "        lossY = loss_function(outY,Y_data[data].to(device).float())\n",
        "        lossZ = loss_function(outZ,Z_data[data].to(device).float())\n",
        "        loss = lossX+lossY+lossZ\n",
        "\n",
        "        loss.backward()  # apply this loss backwards thru the network's parameters\n",
        "        optimizer.step()  # attempt to optimize weights to account for loss/gradients\n",
        "    print(epoch,loss)\n",
        "    loss_vector.append(loss)\n",
        "\n",
        "\n",
        "\n"
      ],
      "metadata": {
        "id": "j5IEk-9PnjF4",
        "colab": {
          "base_uri": "https://localhost:8080/"
        },
        "outputId": "ea0c41be-9a71-46f3-ec97-e5a747261b29"
      },
      "execution_count": 4,
      "outputs": [
        {
          "output_type": "stream",
          "name": "stdout",
          "text": [
            "path of video directory - /content/drive/MyDrive/Project Docments/lip sync/vid\n",
            "path of audio directory - /content/drive/MyDrive/Project Docments/lip sync/aud\n",
            "Batch size - 4\n",
            "Epochs - 2\n",
            "Learning Rate - 1\n",
            "0 tensor(348042.8750, grad_fn=<AddBackward0>)\n",
            "1 tensor(346705.5000, grad_fn=<AddBackward0>)\n"
          ]
        }
      ]
    },
    {
      "cell_type": "code",
      "source": [
        "#@title Plot loss\n",
        "Lv = [] \n",
        "for i in range(len(loss_vector)):\n",
        "    Lv.append(loss_vector[i].item())\n",
        "print(Lv)\n",
        "plt.plot(Lv)\n",
        "plt.xlabel(\"iteration\")\n",
        "plt.ylabel(\"loss\")\n",
        "\n",
        "plt.show() "
      ],
      "metadata": {
        "colab": {
          "base_uri": "https://localhost:8080/",
          "height": 296
        },
        "id": "KArlG6rm8WmP",
        "outputId": "8796c9de-8f27-4371-88b8-d6e65d1895d5"
      },
      "execution_count": 5,
      "outputs": [
        {
          "output_type": "stream",
          "name": "stdout",
          "text": [
            "[348042.875, 346705.5]\n"
          ]
        },
        {
          "output_type": "display_data",
          "data": {
            "text/plain": [
              "<Figure size 432x288 with 1 Axes>"
            ],
            "image/png": "[encoded data removed]"
          },
          "metadata": {
            "needs_background": "light"
          }
        }
      ]
    },
    {
      "cell_type": "code",
      "source": [
        "#@title Save the model (This is optional, If you think you got good results you can save the model for later use)\n",
        "model.eval()\n",
        "location = input('Enter the location you would like to save this model/ the model name - ')\n",
        "#Enter the location you would like to save this model ---> this is the folder you are putting it\n",
        "#the model name ----> give any name you like\n",
        "joblib.dump(model, location+'/trained.pkl')\n"
      ],
      "metadata": {
        "colab": {
          "base_uri": "https://localhost:8080/"
        },
        "id": "p1q64z10lrKX",
        "outputId": "a6cdfffb-2438-45bf-be33-c4e9303c7661"
      },
      "execution_count": 6,
      "outputs": [
        {
          "name": "stdout",
          "output_type": "stream",
          "text": [
            "Enter the location you would like to save this model/ the model name - /content/drive/MyDrive/Project Docments/lip sync\n"
          ]
        },
        {
          "output_type": "execute_result",
          "data": {
            "text/plain": [
              "['/content/drive/MyDrive/Project Docments/lip sync/trained.pkl']"
            ]
          },
          "metadata": {},
          "execution_count": 6
        }
      ]
    },
    {
      "cell_type": "code",
      "source": [
        "#@title You can feed test audio here after training\n",
        "model.eval()\n",
        "test = input('audio file path - ')\n",
        "test, Fs = librosa.load(test)\n",
        "hop_length = int(len(aud)/length+1)\n",
        "S = librosa.feature.melspectrogram(y=test, sr=Fs,n_fft = 2048,hop_length=hop_length, n_mels=128,fmax=8000)\n",
        "S = torch.tensor(S.T[:length]).view(-1,150,128).to(device)\n",
        "\n",
        "\n",
        "Lips_X,Lips_Y,Lips_Z = model(S)"
      ],
      "metadata": {
        "id": "1gWetB8KpsBy",
        "colab": {
          "base_uri": "https://localhost:8080/"
        },
        "outputId": "30933297-2dbc-46a3-d3f2-fa695c7bc05d"
      },
      "execution_count": 10,
      "outputs": [
        {
          "name": "stdout",
          "output_type": "stream",
          "text": [
            "audio file path - /content/drive/MyDrive/Project Docments/lip sync/aud/1.wav\n"
          ]
        }
      ]
    },
    {
      "cell_type": "code",
      "source": [
        "print(Lips_X.shape) #for 150 frames ,40 lip points"
      ],
      "metadata": {
        "colab": {
          "base_uri": "https://localhost:8080/"
        },
        "id": "giDx5zKYnEn-",
        "outputId": "b46e9e32-f1f5-45a9-ea50-52b10335fa0e"
      },
      "execution_count": 11,
      "outputs": [
        {
          "output_type": "stream",
          "name": "stdout",
          "text": [
            "torch.Size([1, 150, 40])\n"
          ]
        }
      ]
    }
  ]
}